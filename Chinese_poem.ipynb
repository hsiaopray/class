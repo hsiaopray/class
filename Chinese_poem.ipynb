{
  "nbformat": 4,
  "nbformat_minor": 0,
  "metadata": {
    "colab": {
      "name": "Chinese_poem.ipynb",
      "provenance": [],
      "authorship_tag": "ABX9TyMnvz0FIRCPSdivoEB3i3+J",
      "include_colab_link": true
    },
    "kernelspec": {
      "name": "python3",
      "display_name": "Python 3"
    }
  },
  "cells": [
    {
      "cell_type": "markdown",
      "metadata": {
        "id": "view-in-github",
        "colab_type": "text"
      },
      "source": [
        "<a href=\"https://colab.research.google.com/github/hsiaopray/class/blob/master/Chinese_poem.ipynb\" target=\"_parent\"><img src=\"https://colab.research.google.com/assets/colab-badge.svg\" alt=\"Open In Colab\"/></a>"
      ]
    },
    {
      "cell_type": "code",
      "metadata": {
        "id": "LqfyxIGvYnhj",
        "colab_type": "code",
        "colab": {
          "base_uri": "https://localhost:8080/",
          "height": 205
        },
        "outputId": "0f46572d-8fda-48bd-f99e-41d18e9f3bf4"
      },
      "source": [
        "!pip install opencc-python-reimplemented"
      ],
      "execution_count": 1,
      "outputs": [
        {
          "output_type": "stream",
          "text": [
            "Collecting opencc-python-reimplemented\n",
            "\u001b[?25l  Downloading https://files.pythonhosted.org/packages/04/aa/02c5ffc87e2bf1da1f476d35aa4de69cad2cfc3140e37114755c454d1231/opencc-python-reimplemented-0.1.6.tar.gz (484kB)\n",
            "\r\u001b[K     |▊                               | 10kB 17.3MB/s eta 0:00:01\r\u001b[K     |█▍                              | 20kB 1.6MB/s eta 0:00:01\r\u001b[K     |██                              | 30kB 2.0MB/s eta 0:00:01\r\u001b[K     |██▊                             | 40kB 1.6MB/s eta 0:00:01\r\u001b[K     |███▍                            | 51kB 1.9MB/s eta 0:00:01\r\u001b[K     |████                            | 61kB 2.2MB/s eta 0:00:01\r\u001b[K     |████▊                           | 71kB 2.4MB/s eta 0:00:01\r\u001b[K     |█████▍                          | 81kB 2.6MB/s eta 0:00:01\r\u001b[K     |██████                          | 92kB 2.9MB/s eta 0:00:01\r\u001b[K     |██████▊                         | 102kB 2.7MB/s eta 0:00:01\r\u001b[K     |███████▍                        | 112kB 2.7MB/s eta 0:00:01\r\u001b[K     |████████▏                       | 122kB 2.7MB/s eta 0:00:01\r\u001b[K     |████████▉                       | 133kB 2.7MB/s eta 0:00:01\r\u001b[K     |█████████▌                      | 143kB 2.7MB/s eta 0:00:01\r\u001b[K     |██████████▏                     | 153kB 2.7MB/s eta 0:00:01\r\u001b[K     |██████████▉                     | 163kB 2.7MB/s eta 0:00:01\r\u001b[K     |███████████▌                    | 174kB 2.7MB/s eta 0:00:01\r\u001b[K     |████████████▏                   | 184kB 2.7MB/s eta 0:00:01\r\u001b[K     |████████████▉                   | 194kB 2.7MB/s eta 0:00:01\r\u001b[K     |█████████████▌                  | 204kB 2.7MB/s eta 0:00:01\r\u001b[K     |██████████████▏                 | 215kB 2.7MB/s eta 0:00:01\r\u001b[K     |██████████████▉                 | 225kB 2.7MB/s eta 0:00:01\r\u001b[K     |███████████████▌                | 235kB 2.7MB/s eta 0:00:01\r\u001b[K     |████████████████▎               | 245kB 2.7MB/s eta 0:00:01\r\u001b[K     |█████████████████               | 256kB 2.7MB/s eta 0:00:01\r\u001b[K     |█████████████████▋              | 266kB 2.7MB/s eta 0:00:01\r\u001b[K     |██████████████████▎             | 276kB 2.7MB/s eta 0:00:01\r\u001b[K     |███████████████████             | 286kB 2.7MB/s eta 0:00:01\r\u001b[K     |███████████████████▋            | 296kB 2.7MB/s eta 0:00:01\r\u001b[K     |████████████████████▎           | 307kB 2.7MB/s eta 0:00:01\r\u001b[K     |█████████████████████           | 317kB 2.7MB/s eta 0:00:01\r\u001b[K     |█████████████████████▋          | 327kB 2.7MB/s eta 0:00:01\r\u001b[K     |██████████████████████▎         | 337kB 2.7MB/s eta 0:00:01\r\u001b[K     |███████████████████████         | 348kB 2.7MB/s eta 0:00:01\r\u001b[K     |███████████████████████▊        | 358kB 2.7MB/s eta 0:00:01\r\u001b[K     |████████████████████████▍       | 368kB 2.7MB/s eta 0:00:01\r\u001b[K     |█████████████████████████       | 378kB 2.7MB/s eta 0:00:01\r\u001b[K     |█████████████████████████▊      | 389kB 2.7MB/s eta 0:00:01\r\u001b[K     |██████████████████████████▍     | 399kB 2.7MB/s eta 0:00:01\r\u001b[K     |███████████████████████████     | 409kB 2.7MB/s eta 0:00:01\r\u001b[K     |███████████████████████████▊    | 419kB 2.7MB/s eta 0:00:01\r\u001b[K     |████████████████████████████▍   | 430kB 2.7MB/s eta 0:00:01\r\u001b[K     |█████████████████████████████   | 440kB 2.7MB/s eta 0:00:01\r\u001b[K     |█████████████████████████████▊  | 450kB 2.7MB/s eta 0:00:01\r\u001b[K     |██████████████████████████████▍ | 460kB 2.7MB/s eta 0:00:01\r\u001b[K     |███████████████████████████████ | 471kB 2.7MB/s eta 0:00:01\r\u001b[K     |███████████████████████████████▉| 481kB 2.7MB/s eta 0:00:01\r\u001b[K     |████████████████████████████████| 491kB 2.7MB/s \n",
            "\u001b[?25hBuilding wheels for collected packages: opencc-python-reimplemented\n",
            "  Building wheel for opencc-python-reimplemented (setup.py) ... \u001b[?25l\u001b[?25hdone\n",
            "  Created wheel for opencc-python-reimplemented: filename=opencc_python_reimplemented-0.1.6-py2.py3-none-any.whl size=486136 sha256=47bc1e522ba5abcf79638183669be86fc51d70f25c2782aa09fd54ab2cd807b3\n",
            "  Stored in directory: /root/.cache/pip/wheels/54/8a/0f/405db0ba3f02d9af8211422d3ae94c47b3296256f168ac1e68\n",
            "Successfully built opencc-python-reimplemented\n",
            "Installing collected packages: opencc-python-reimplemented\n",
            "Successfully installed opencc-python-reimplemented-0.1.6\n"
          ],
          "name": "stdout"
        }
      ]
    },
    {
      "cell_type": "code",
      "metadata": {
        "id": "ZOqvDw_IZdq_",
        "colab_type": "code",
        "colab": {
          "base_uri": "https://localhost:8080/",
          "height": 35
        },
        "outputId": "86daf853-3d28-499e-bec1-f5b619074de5"
      },
      "source": [
        "from opencc import OpenCC\n",
        "cc = OpenCC('s2twp')  # convert from Simplified Chinese to Traditional Chinese\n",
        "# can also set conversion by calling set_conversion\n",
        "# cc.set_conversion('s2tw')\n",
        "to_convert = '''天才有天才的苦恼，疑似超忆症患者吴冕无奈回到老家成为医务科科长。故事，从他回老家的夏天开始。'''\n",
        "converted = cc.convert(to_convert)\n",
        "converted"
      ],
      "execution_count": 4,
      "outputs": [
        {
          "output_type": "execute_result",
          "data": {
            "application/vnd.google.colaboratory.intrinsic": {
              "type": "string"
            },
            "text/plain": [
              "'天才有天才的苦惱，疑似超憶症患者吳冕無奈回到老家成為醫務科科長。故事，從他回老家的夏天開始。'"
            ]
          },
          "metadata": {
            "tags": []
          },
          "execution_count": 4
        }
      ]
    }
  ]
}