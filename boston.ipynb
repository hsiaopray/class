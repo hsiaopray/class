{
  "nbformat": 4,
  "nbformat_minor": 0,
  "metadata": {
    "colab": {
      "name": "boston.ipynb",
      "provenance": [],
      "collapsed_sections": [],
      "authorship_tag": "ABX9TyMMNpKZsYpKHx7ccA7n3py0",
      "include_colab_link": true
    },
    "kernelspec": {
      "name": "python3",
      "display_name": "Python 3"
    }
  },
  "cells": [
    {
      "cell_type": "markdown",
      "metadata": {
        "id": "view-in-github",
        "colab_type": "text"
      },
      "source": [
        "<a href=\"https://colab.research.google.com/github/hsiaopray/class0716/blob/master/boston.ipynb\" target=\"_parent\"><img src=\"https://colab.research.google.com/assets/colab-badge.svg\" alt=\"Open In Colab\"/></a>"
      ]
    },
    {
      "cell_type": "code",
      "metadata": {
        "id": "tALP5L49cm3a",
        "colab_type": "code",
        "cellView": "both",
        "colab": {
          "base_uri": "https://localhost:8080/",
          "height": 419
        },
        "outputId": "742a2dc2-fa71-4c37-97b1-ee0db3c436c6"
      },
      "source": [
        "import pandas as pd\n",
        "from sklearn.datasets import load_boston\n",
        "boston = load_boston()\n",
        "df = pd.DataFrame(boston[\"data\"], \n",
        "                  columns = boston[\"feature_names\"])        \n",
        "df[\"answer\"] = boston[\"target\"]\n",
        "df.to_csv(\"boston.csv\", encoding= \"utf-8\", index=False)\n",
        "df"
      ],
      "execution_count": 2,
      "outputs": [
        {
          "output_type": "execute_result",
          "data": {
            "text/html": [
              "<div>\n",
              "<style scoped>\n",
              "    .dataframe tbody tr th:only-of-type {\n",
              "        vertical-align: middle;\n",
              "    }\n",
              "\n",
              "    .dataframe tbody tr th {\n",
              "        vertical-align: top;\n",
              "    }\n",
              "\n",
              "    .dataframe thead th {\n",
              "        text-align: right;\n",
              "    }\n",
              "</style>\n",
              "<table border=\"1\" class=\"dataframe\">\n",
              "  <thead>\n",
              "    <tr style=\"text-align: right;\">\n",
              "      <th></th>\n",
              "      <th>CRIM</th>\n",
              "      <th>ZN</th>\n",
              "      <th>INDUS</th>\n",
              "      <th>CHAS</th>\n",
              "      <th>NOX</th>\n",
              "      <th>RM</th>\n",
              "      <th>AGE</th>\n",
              "      <th>DIS</th>\n",
              "      <th>RAD</th>\n",
              "      <th>TAX</th>\n",
              "      <th>PTRATIO</th>\n",
              "      <th>B</th>\n",
              "      <th>LSTAT</th>\n",
              "      <th>answer</th>\n",
              "    </tr>\n",
              "  </thead>\n",
              "  <tbody>\n",
              "    <tr>\n",
              "      <th>0</th>\n",
              "      <td>0.00632</td>\n",
              "      <td>18.0</td>\n",
              "      <td>2.31</td>\n",
              "      <td>0.0</td>\n",
              "      <td>0.538</td>\n",
              "      <td>6.575</td>\n",
              "      <td>65.2</td>\n",
              "      <td>4.0900</td>\n",
              "      <td>1.0</td>\n",
              "      <td>296.0</td>\n",
              "      <td>15.3</td>\n",
              "      <td>396.90</td>\n",
              "      <td>4.98</td>\n",
              "      <td>24.0</td>\n",
              "    </tr>\n",
              "    <tr>\n",
              "      <th>1</th>\n",
              "      <td>0.02731</td>\n",
              "      <td>0.0</td>\n",
              "      <td>7.07</td>\n",
              "      <td>0.0</td>\n",
              "      <td>0.469</td>\n",
              "      <td>6.421</td>\n",
              "      <td>78.9</td>\n",
              "      <td>4.9671</td>\n",
              "      <td>2.0</td>\n",
              "      <td>242.0</td>\n",
              "      <td>17.8</td>\n",
              "      <td>396.90</td>\n",
              "      <td>9.14</td>\n",
              "      <td>21.6</td>\n",
              "    </tr>\n",
              "    <tr>\n",
              "      <th>2</th>\n",
              "      <td>0.02729</td>\n",
              "      <td>0.0</td>\n",
              "      <td>7.07</td>\n",
              "      <td>0.0</td>\n",
              "      <td>0.469</td>\n",
              "      <td>7.185</td>\n",
              "      <td>61.1</td>\n",
              "      <td>4.9671</td>\n",
              "      <td>2.0</td>\n",
              "      <td>242.0</td>\n",
              "      <td>17.8</td>\n",
              "      <td>392.83</td>\n",
              "      <td>4.03</td>\n",
              "      <td>34.7</td>\n",
              "    </tr>\n",
              "    <tr>\n",
              "      <th>3</th>\n",
              "      <td>0.03237</td>\n",
              "      <td>0.0</td>\n",
              "      <td>2.18</td>\n",
              "      <td>0.0</td>\n",
              "      <td>0.458</td>\n",
              "      <td>6.998</td>\n",
              "      <td>45.8</td>\n",
              "      <td>6.0622</td>\n",
              "      <td>3.0</td>\n",
              "      <td>222.0</td>\n",
              "      <td>18.7</td>\n",
              "      <td>394.63</td>\n",
              "      <td>2.94</td>\n",
              "      <td>33.4</td>\n",
              "    </tr>\n",
              "    <tr>\n",
              "      <th>4</th>\n",
              "      <td>0.06905</td>\n",
              "      <td>0.0</td>\n",
              "      <td>2.18</td>\n",
              "      <td>0.0</td>\n",
              "      <td>0.458</td>\n",
              "      <td>7.147</td>\n",
              "      <td>54.2</td>\n",
              "      <td>6.0622</td>\n",
              "      <td>3.0</td>\n",
              "      <td>222.0</td>\n",
              "      <td>18.7</td>\n",
              "      <td>396.90</td>\n",
              "      <td>5.33</td>\n",
              "      <td>36.2</td>\n",
              "    </tr>\n",
              "    <tr>\n",
              "      <th>...</th>\n",
              "      <td>...</td>\n",
              "      <td>...</td>\n",
              "      <td>...</td>\n",
              "      <td>...</td>\n",
              "      <td>...</td>\n",
              "      <td>...</td>\n",
              "      <td>...</td>\n",
              "      <td>...</td>\n",
              "      <td>...</td>\n",
              "      <td>...</td>\n",
              "      <td>...</td>\n",
              "      <td>...</td>\n",
              "      <td>...</td>\n",
              "      <td>...</td>\n",
              "    </tr>\n",
              "    <tr>\n",
              "      <th>501</th>\n",
              "      <td>0.06263</td>\n",
              "      <td>0.0</td>\n",
              "      <td>11.93</td>\n",
              "      <td>0.0</td>\n",
              "      <td>0.573</td>\n",
              "      <td>6.593</td>\n",
              "      <td>69.1</td>\n",
              "      <td>2.4786</td>\n",
              "      <td>1.0</td>\n",
              "      <td>273.0</td>\n",
              "      <td>21.0</td>\n",
              "      <td>391.99</td>\n",
              "      <td>9.67</td>\n",
              "      <td>22.4</td>\n",
              "    </tr>\n",
              "    <tr>\n",
              "      <th>502</th>\n",
              "      <td>0.04527</td>\n",
              "      <td>0.0</td>\n",
              "      <td>11.93</td>\n",
              "      <td>0.0</td>\n",
              "      <td>0.573</td>\n",
              "      <td>6.120</td>\n",
              "      <td>76.7</td>\n",
              "      <td>2.2875</td>\n",
              "      <td>1.0</td>\n",
              "      <td>273.0</td>\n",
              "      <td>21.0</td>\n",
              "      <td>396.90</td>\n",
              "      <td>9.08</td>\n",
              "      <td>20.6</td>\n",
              "    </tr>\n",
              "    <tr>\n",
              "      <th>503</th>\n",
              "      <td>0.06076</td>\n",
              "      <td>0.0</td>\n",
              "      <td>11.93</td>\n",
              "      <td>0.0</td>\n",
              "      <td>0.573</td>\n",
              "      <td>6.976</td>\n",
              "      <td>91.0</td>\n",
              "      <td>2.1675</td>\n",
              "      <td>1.0</td>\n",
              "      <td>273.0</td>\n",
              "      <td>21.0</td>\n",
              "      <td>396.90</td>\n",
              "      <td>5.64</td>\n",
              "      <td>23.9</td>\n",
              "    </tr>\n",
              "    <tr>\n",
              "      <th>504</th>\n",
              "      <td>0.10959</td>\n",
              "      <td>0.0</td>\n",
              "      <td>11.93</td>\n",
              "      <td>0.0</td>\n",
              "      <td>0.573</td>\n",
              "      <td>6.794</td>\n",
              "      <td>89.3</td>\n",
              "      <td>2.3889</td>\n",
              "      <td>1.0</td>\n",
              "      <td>273.0</td>\n",
              "      <td>21.0</td>\n",
              "      <td>393.45</td>\n",
              "      <td>6.48</td>\n",
              "      <td>22.0</td>\n",
              "    </tr>\n",
              "    <tr>\n",
              "      <th>505</th>\n",
              "      <td>0.04741</td>\n",
              "      <td>0.0</td>\n",
              "      <td>11.93</td>\n",
              "      <td>0.0</td>\n",
              "      <td>0.573</td>\n",
              "      <td>6.030</td>\n",
              "      <td>80.8</td>\n",
              "      <td>2.5050</td>\n",
              "      <td>1.0</td>\n",
              "      <td>273.0</td>\n",
              "      <td>21.0</td>\n",
              "      <td>396.90</td>\n",
              "      <td>7.88</td>\n",
              "      <td>11.9</td>\n",
              "    </tr>\n",
              "  </tbody>\n",
              "</table>\n",
              "<p>506 rows × 14 columns</p>\n",
              "</div>"
            ],
            "text/plain": [
              "        CRIM    ZN  INDUS  CHAS    NOX  ...    TAX  PTRATIO       B  LSTAT  answer\n",
              "0    0.00632  18.0   2.31   0.0  0.538  ...  296.0     15.3  396.90   4.98    24.0\n",
              "1    0.02731   0.0   7.07   0.0  0.469  ...  242.0     17.8  396.90   9.14    21.6\n",
              "2    0.02729   0.0   7.07   0.0  0.469  ...  242.0     17.8  392.83   4.03    34.7\n",
              "3    0.03237   0.0   2.18   0.0  0.458  ...  222.0     18.7  394.63   2.94    33.4\n",
              "4    0.06905   0.0   2.18   0.0  0.458  ...  222.0     18.7  396.90   5.33    36.2\n",
              "..       ...   ...    ...   ...    ...  ...    ...      ...     ...    ...     ...\n",
              "501  0.06263   0.0  11.93   0.0  0.573  ...  273.0     21.0  391.99   9.67    22.4\n",
              "502  0.04527   0.0  11.93   0.0  0.573  ...  273.0     21.0  396.90   9.08    20.6\n",
              "503  0.06076   0.0  11.93   0.0  0.573  ...  273.0     21.0  396.90   5.64    23.9\n",
              "504  0.10959   0.0  11.93   0.0  0.573  ...  273.0     21.0  393.45   6.48    22.0\n",
              "505  0.04741   0.0  11.93   0.0  0.573  ...  273.0     21.0  396.90   7.88    11.9\n",
              "\n",
              "[506 rows x 14 columns]"
            ]
          },
          "metadata": {
            "tags": []
          },
          "execution_count": 2
        }
      ]
    },
    {
      "cell_type": "code",
      "metadata": {
        "id": "KYACxHUoPvpd",
        "colab_type": "code",
        "colab": {}
      },
      "source": [
        "from sklearn.model_selection import train_test_split\n",
        "# 把資料切開，變成兩份資料\n",
        "# [90% data, 10%data, 90% target, 10%target]\n",
        "x_train, x_test, y_train, y_test = train_test_split(boston[\"data\"],\n",
        "                                                    boston[\"target\"],\n",
        "                                                    test_size=0.1)"
      ],
      "execution_count": 53,
      "outputs": []
    },
    {
      "cell_type": "code",
      "metadata": {
        "id": "LrCTgVpdSjc_",
        "colab_type": "code",
        "colab": {
          "base_uri": "https://localhost:8080/",
          "height": 119
        },
        "outputId": "ea98578a-621a-435a-8bd3-42ab5e6417f5"
      },
      "source": [
        "# 準備一個演算法 Decision tree\n",
        "from sklearn.tree import DecisionTreeRegressor\n",
        "reg = DecisionTreeRegressor()\n",
        "reg.fit(x_train, y_train)"
      ],
      "execution_count": 54,
      "outputs": [
        {
          "output_type": "execute_result",
          "data": {
            "text/plain": [
              "DecisionTreeRegressor(ccp_alpha=0.0, criterion='mse', max_depth=None,\n",
              "                      max_features=None, max_leaf_nodes=None,\n",
              "                      min_impurity_decrease=0.0, min_impurity_split=None,\n",
              "                      min_samples_leaf=1, min_samples_split=2,\n",
              "                      min_weight_fraction_leaf=0.0, presort='deprecated',\n",
              "                      random_state=None, splitter='best')"
            ]
          },
          "metadata": {
            "tags": []
          },
          "execution_count": 54
        }
      ]
    },
    {
      "cell_type": "code",
      "metadata": {
        "id": "Gbkd7JHgToUz",
        "colab_type": "code",
        "colab": {
          "base_uri": "https://localhost:8080/",
          "height": 634
        },
        "outputId": "e6e6e3ca-679b-4383-8944-9135006747d0"
      },
      "source": [
        "# 引用套件，根據上面準備的訓練資料、演算法，來做出最後的決策樹\n",
        "import graphviz\n",
        "from sklearn.tree import export_graphviz\n",
        "g = export_graphviz(reg,\n",
        "                    feature_names=boston[\"feature_names\"],\n",
        "                    filled = True,\n",
        "                    max_depth=3)\n",
        "graphviz.Source(g)"
      ],
      "execution_count": 55,
      "outputs": [
        {
          "output_type": "execute_result",
          "data": {
            "text/plain": [
              "<graphviz.files.Source at 0x7fa3f5dbadd8>"
            ],
            "image/svg+xml": "<?xml version=\"1.0\" encoding=\"UTF-8\" standalone=\"no\"?>\n<!DOCTYPE svg PUBLIC \"-//W3C//DTD SVG 1.1//EN\"\n \"http://www.w3.org/Graphics/SVG/1.1/DTD/svg11.dtd\">\n<!-- Generated by graphviz version 2.40.1 (20161225.0304)\n -->\n<!-- Title: Tree Pages: 1 -->\n<svg width=\"1070pt\" height=\"460pt\"\n viewBox=\"0.00 0.00 1069.50 460.00\" xmlns=\"http://www.w3.org/2000/svg\" xmlns:xlink=\"http://www.w3.org/1999/xlink\">\n<g id=\"graph0\" class=\"graph\" transform=\"scale(1 1) rotate(0) translate(4 456)\">\n<title>Tree</title>\n<polygon fill=\"#ffffff\" stroke=\"transparent\" points=\"-4,4 -4,-456 1065.5,-456 1065.5,4 -4,4\"/>\n<!-- 0 -->\n<g id=\"node1\" class=\"node\">\n<title>0</title>\n<polygon fill=\"#f5ceb1\" stroke=\"#000000\" points=\"577,-452 473,-452 473,-384 577,-384 577,-452\"/>\n<text text-anchor=\"middle\" x=\"525\" y=\"-436.8\" font-family=\"Times,serif\" font-size=\"14.00\" fill=\"#000000\">RM &lt;= 6.941</text>\n<text text-anchor=\"middle\" x=\"525\" y=\"-421.8\" font-family=\"Times,serif\" font-size=\"14.00\" fill=\"#000000\">mse = 87.258</text>\n<text text-anchor=\"middle\" x=\"525\" y=\"-406.8\" font-family=\"Times,serif\" font-size=\"14.00\" fill=\"#000000\">samples = 455</text>\n<text text-anchor=\"middle\" x=\"525\" y=\"-391.8\" font-family=\"Times,serif\" font-size=\"14.00\" fill=\"#000000\">value = 22.671</text>\n</g>\n<!-- 1 -->\n<g id=\"node2\" class=\"node\">\n<title>1</title>\n<polygon fill=\"#f6d5be\" stroke=\"#000000\" points=\"516,-348 406,-348 406,-280 516,-280 516,-348\"/>\n<text text-anchor=\"middle\" x=\"461\" y=\"-332.8\" font-family=\"Times,serif\" font-size=\"14.00\" fill=\"#000000\">LSTAT &lt;= 14.4</text>\n<text text-anchor=\"middle\" x=\"461\" y=\"-317.8\" font-family=\"Times,serif\" font-size=\"14.00\" fill=\"#000000\">mse = 39.974</text>\n<text text-anchor=\"middle\" x=\"461\" y=\"-302.8\" font-family=\"Times,serif\" font-size=\"14.00\" fill=\"#000000\">samples = 382</text>\n<text text-anchor=\"middle\" x=\"461\" y=\"-287.8\" font-family=\"Times,serif\" font-size=\"14.00\" fill=\"#000000\">value = 19.883</text>\n</g>\n<!-- 0&#45;&gt;1 -->\n<g id=\"edge1\" class=\"edge\">\n<title>0&#45;&gt;1</title>\n<path fill=\"none\" stroke=\"#000000\" d=\"M504.044,-383.9465C498.6845,-375.2373 492.8539,-365.7626 487.2647,-356.6801\"/>\n<polygon fill=\"#000000\" stroke=\"#000000\" points=\"490.2249,-354.8122 482.0031,-348.13 484.2633,-358.481 490.2249,-354.8122\"/>\n<text text-anchor=\"middle\" x=\"476.2126\" y=\"-368.7502\" font-family=\"Times,serif\" font-size=\"14.00\" fill=\"#000000\">True</text>\n</g>\n<!-- 712 -->\n<g id=\"node17\" class=\"node\">\n<title>712</title>\n<polygon fill=\"#eca571\" stroke=\"#000000\" points=\"697.5,-348 600.5,-348 600.5,-280 697.5,-280 697.5,-348\"/>\n<text text-anchor=\"middle\" x=\"649\" y=\"-332.8\" font-family=\"Times,serif\" font-size=\"14.00\" fill=\"#000000\">RM &lt;= 7.435</text>\n<text text-anchor=\"middle\" x=\"649\" y=\"-317.8\" font-family=\"Times,serif\" font-size=\"14.00\" fill=\"#000000\">mse = 81.166</text>\n<text text-anchor=\"middle\" x=\"649\" y=\"-302.8\" font-family=\"Times,serif\" font-size=\"14.00\" fill=\"#000000\">samples = 73</text>\n<text text-anchor=\"middle\" x=\"649\" y=\"-287.8\" font-family=\"Times,serif\" font-size=\"14.00\" fill=\"#000000\">value = 37.26</text>\n</g>\n<!-- 0&#45;&gt;712 -->\n<g id=\"edge16\" class=\"edge\">\n<title>0&#45;&gt;712</title>\n<path fill=\"none\" stroke=\"#000000\" d=\"M565.6022,-383.9465C576.7356,-374.6088 588.9183,-364.3911 600.4489,-354.7203\"/>\n<polygon fill=\"#000000\" stroke=\"#000000\" points=\"602.8938,-357.2378 608.3065,-348.13 598.3954,-351.8745 602.8938,-357.2378\"/>\n<text text-anchor=\"middle\" x=\"606.1219\" y=\"-369.3344\" font-family=\"Times,serif\" font-size=\"14.00\" fill=\"#000000\">False</text>\n</g>\n<!-- 2 -->\n<g id=\"node3\" class=\"node\">\n<title>2</title>\n<polygon fill=\"#f4ccaf\" stroke=\"#000000\" points=\"288,-244 184,-244 184,-176 288,-176 288,-244\"/>\n<text text-anchor=\"middle\" x=\"236\" y=\"-228.8\" font-family=\"Times,serif\" font-size=\"14.00\" fill=\"#000000\">DIS &lt;= 1.385</text>\n<text text-anchor=\"middle\" x=\"236\" y=\"-213.8\" font-family=\"Times,serif\" font-size=\"14.00\" fill=\"#000000\">mse = 25.951</text>\n<text text-anchor=\"middle\" x=\"236\" y=\"-198.8\" font-family=\"Times,serif\" font-size=\"14.00\" fill=\"#000000\">samples = 229</text>\n<text text-anchor=\"middle\" x=\"236\" y=\"-183.8\" font-family=\"Times,serif\" font-size=\"14.00\" fill=\"#000000\">value = 23.227</text>\n</g>\n<!-- 1&#45;&gt;2 -->\n<g id=\"edge2\" class=\"edge\">\n<title>1&#45;&gt;2</title>\n<path fill=\"none\" stroke=\"#000000\" d=\"M405.9588,-288.5587C373.1371,-273.3878 331.3961,-254.0942 297.4943,-238.424\"/>\n<polygon fill=\"#000000\" stroke=\"#000000\" points=\"298.6998,-235.1255 288.1541,-234.1068 295.7628,-241.4796 298.6998,-235.1255\"/>\n</g>\n<!-- 431 -->\n<g id=\"node10\" class=\"node\">\n<title>431</title>\n<polygon fill=\"#f9e3d4\" stroke=\"#000000\" points=\"516.5,-244 405.5,-244 405.5,-176 516.5,-176 516.5,-244\"/>\n<text text-anchor=\"middle\" x=\"461\" y=\"-228.8\" font-family=\"Times,serif\" font-size=\"14.00\" fill=\"#000000\">CRIM &lt;= 6.992</text>\n<text text-anchor=\"middle\" x=\"461\" y=\"-213.8\" font-family=\"Times,serif\" font-size=\"14.00\" fill=\"#000000\">mse = 19.173</text>\n<text text-anchor=\"middle\" x=\"461\" y=\"-198.8\" font-family=\"Times,serif\" font-size=\"14.00\" fill=\"#000000\">samples = 153</text>\n<text text-anchor=\"middle\" x=\"461\" y=\"-183.8\" font-family=\"Times,serif\" font-size=\"14.00\" fill=\"#000000\">value = 14.878</text>\n</g>\n<!-- 1&#45;&gt;431 -->\n<g id=\"edge9\" class=\"edge\">\n<title>1&#45;&gt;431</title>\n<path fill=\"none\" stroke=\"#000000\" d=\"M461,-279.9465C461,-271.776 461,-262.9318 461,-254.3697\"/>\n<polygon fill=\"#000000\" stroke=\"#000000\" points=\"464.5001,-254.13 461,-244.13 457.5001,-254.13 464.5001,-254.13\"/>\n</g>\n<!-- 3 -->\n<g id=\"node4\" class=\"node\">\n<title>3</title>\n<polygon fill=\"#e88d4c\" stroke=\"#000000\" points=\"158.5,-140 39.5,-140 39.5,-72 158.5,-72 158.5,-140\"/>\n<text text-anchor=\"middle\" x=\"99\" y=\"-124.8\" font-family=\"Times,serif\" font-size=\"14.00\" fill=\"#000000\">CRIM &lt;= 10.592</text>\n<text text-anchor=\"middle\" x=\"99\" y=\"-109.8\" font-family=\"Times,serif\" font-size=\"14.00\" fill=\"#000000\">mse = 78.146</text>\n<text text-anchor=\"middle\" x=\"99\" y=\"-94.8\" font-family=\"Times,serif\" font-size=\"14.00\" fill=\"#000000\">samples = 5</text>\n<text text-anchor=\"middle\" x=\"99\" y=\"-79.8\" font-family=\"Times,serif\" font-size=\"14.00\" fill=\"#000000\">value = 45.58</text>\n</g>\n<!-- 2&#45;&gt;3 -->\n<g id=\"edge3\" class=\"edge\">\n<title>2&#45;&gt;3</title>\n<path fill=\"none\" stroke=\"#000000\" d=\"M191.1411,-175.9465C178.7222,-166.519 165.1217,-156.1946 152.2739,-146.4415\"/>\n<polygon fill=\"#000000\" stroke=\"#000000\" points=\"154.041,-143.3887 143.9597,-140.13 149.8085,-148.9642 154.041,-143.3887\"/>\n</g>\n<!-- 6 -->\n<g id=\"node7\" class=\"node\">\n<title>6</title>\n<polygon fill=\"#f5cdb1\" stroke=\"#000000\" points=\"288,-140 184,-140 184,-72 288,-72 288,-140\"/>\n<text text-anchor=\"middle\" x=\"236\" y=\"-124.8\" font-family=\"Times,serif\" font-size=\"14.00\" fill=\"#000000\">RM &lt;= 6.543</text>\n<text text-anchor=\"middle\" x=\"236\" y=\"-109.8\" font-family=\"Times,serif\" font-size=\"14.00\" fill=\"#000000\">mse = 13.385</text>\n<text text-anchor=\"middle\" x=\"236\" y=\"-94.8\" font-family=\"Times,serif\" font-size=\"14.00\" fill=\"#000000\">samples = 224</text>\n<text text-anchor=\"middle\" x=\"236\" y=\"-79.8\" font-family=\"Times,serif\" font-size=\"14.00\" fill=\"#000000\">value = 22.728</text>\n</g>\n<!-- 2&#45;&gt;6 -->\n<g id=\"edge6\" class=\"edge\">\n<title>2&#45;&gt;6</title>\n<path fill=\"none\" stroke=\"#000000\" d=\"M236,-175.9465C236,-167.776 236,-158.9318 236,-150.3697\"/>\n<polygon fill=\"#000000\" stroke=\"#000000\" points=\"239.5001,-150.13 236,-140.13 232.5001,-150.13 239.5001,-150.13\"/>\n</g>\n<!-- 4 -->\n<g id=\"node5\" class=\"node\">\n<title>4</title>\n<polygon fill=\"#c0c0c0\" stroke=\"#000000\" points=\"54,-36 0,-36 0,0 54,0 54,-36\"/>\n<text text-anchor=\"middle\" x=\"27\" y=\"-14.3\" font-family=\"Times,serif\" font-size=\"14.00\" fill=\"#000000\">(...)</text>\n</g>\n<!-- 3&#45;&gt;4 -->\n<g id=\"edge4\" class=\"edge\">\n<title>3&#45;&gt;4</title>\n<path fill=\"none\" stroke=\"#000000\" d=\"M71.1629,-71.9769C63.6059,-62.7406 55.5424,-52.8851 48.4014,-44.1573\"/>\n<polygon fill=\"#000000\" stroke=\"#000000\" points=\"50.9256,-41.7152 41.8843,-36.192 45.5079,-46.1479 50.9256,-41.7152\"/>\n</g>\n<!-- 5 -->\n<g id=\"node6\" class=\"node\">\n<title>5</title>\n<polygon fill=\"#c0c0c0\" stroke=\"#000000\" points=\"126,-36 72,-36 72,0 126,0 126,-36\"/>\n<text text-anchor=\"middle\" x=\"99\" y=\"-14.3\" font-family=\"Times,serif\" font-size=\"14.00\" fill=\"#000000\">(...)</text>\n</g>\n<!-- 3&#45;&gt;5 -->\n<g id=\"edge5\" class=\"edge\">\n<title>3&#45;&gt;5</title>\n<path fill=\"none\" stroke=\"#000000\" d=\"M99,-71.9769C99,-63.5023 99,-54.5065 99,-46.3388\"/>\n<polygon fill=\"#000000\" stroke=\"#000000\" points=\"102.5001,-46.1919 99,-36.192 95.5001,-46.192 102.5001,-46.1919\"/>\n</g>\n<!-- 7 -->\n<g id=\"node8\" class=\"node\">\n<title>7</title>\n<polygon fill=\"#c0c0c0\" stroke=\"#000000\" points=\"198,-36 144,-36 144,0 198,0 198,-36\"/>\n<text text-anchor=\"middle\" x=\"171\" y=\"-14.3\" font-family=\"Times,serif\" font-size=\"14.00\" fill=\"#000000\">(...)</text>\n</g>\n<!-- 6&#45;&gt;7 -->\n<g id=\"edge7\" class=\"edge\">\n<title>6&#45;&gt;7</title>\n<path fill=\"none\" stroke=\"#000000\" d=\"M210.8693,-71.9769C204.1174,-62.8358 196.9175,-53.0883 190.5204,-44.4276\"/>\n<polygon fill=\"#000000\" stroke=\"#000000\" points=\"193.1939,-42.1561 184.4372,-36.192 187.5633,-46.3151 193.1939,-42.1561\"/>\n</g>\n<!-- 340 -->\n<g id=\"node9\" class=\"node\">\n<title>340</title>\n<polygon fill=\"#c0c0c0\" stroke=\"#000000\" points=\"270,-36 216,-36 216,0 270,0 270,-36\"/>\n<text text-anchor=\"middle\" x=\"243\" y=\"-14.3\" font-family=\"Times,serif\" font-size=\"14.00\" fill=\"#000000\">(...)</text>\n</g>\n<!-- 6&#45;&gt;340 -->\n<g id=\"edge8\" class=\"edge\">\n<title>6&#45;&gt;340</title>\n<path fill=\"none\" stroke=\"#000000\" d=\"M238.7064,-71.9769C239.3805,-63.5023 240.0961,-54.5065 240.7458,-46.3388\"/>\n<polygon fill=\"#000000\" stroke=\"#000000\" points=\"244.2489,-46.438 241.5529,-36.192 237.2709,-45.8829 244.2489,-46.438\"/>\n</g>\n<!-- 432 -->\n<g id=\"node11\" class=\"node\">\n<title>432</title>\n<polygon fill=\"#f8ddca\" stroke=\"#000000\" points=\"414,-140 308,-140 308,-72 414,-72 414,-140\"/>\n<text text-anchor=\"middle\" x=\"361\" y=\"-124.8\" font-family=\"Times,serif\" font-size=\"14.00\" fill=\"#000000\">NOX &lt;= 0.531</text>\n<text text-anchor=\"middle\" x=\"361\" y=\"-109.8\" font-family=\"Times,serif\" font-size=\"14.00\" fill=\"#000000\">mse = 11.445</text>\n<text text-anchor=\"middle\" x=\"361\" y=\"-94.8\" font-family=\"Times,serif\" font-size=\"14.00\" fill=\"#000000\">samples = 86</text>\n<text text-anchor=\"middle\" x=\"361\" y=\"-79.8\" font-family=\"Times,serif\" font-size=\"14.00\" fill=\"#000000\">value = 17.1</text>\n</g>\n<!-- 431&#45;&gt;432 -->\n<g id=\"edge10\" class=\"edge\">\n<title>431&#45;&gt;432</title>\n<path fill=\"none\" stroke=\"#000000\" d=\"M428.2563,-175.9465C419.5367,-166.8782 410.0191,-156.9799 400.9601,-147.5585\"/>\n<polygon fill=\"#000000\" stroke=\"#000000\" points=\"403.2713,-144.9125 393.8173,-140.13 398.2255,-149.7642 403.2713,-144.9125\"/>\n</g>\n<!-- 589 -->\n<g id=\"node14\" class=\"node\">\n<title>589</title>\n<polygon fill=\"#fbebe0\" stroke=\"#000000\" points=\"538,-140 432,-140 432,-72 538,-72 538,-140\"/>\n<text text-anchor=\"middle\" x=\"485\" y=\"-124.8\" font-family=\"Times,serif\" font-size=\"14.00\" fill=\"#000000\">NOX &lt;= 0.606</text>\n<text text-anchor=\"middle\" x=\"485\" y=\"-109.8\" font-family=\"Times,serif\" font-size=\"14.00\" fill=\"#000000\">mse = 14.618</text>\n<text text-anchor=\"middle\" x=\"485\" y=\"-94.8\" font-family=\"Times,serif\" font-size=\"14.00\" fill=\"#000000\">samples = 67</text>\n<text text-anchor=\"middle\" x=\"485\" y=\"-79.8\" font-family=\"Times,serif\" font-size=\"14.00\" fill=\"#000000\">value = 12.025</text>\n</g>\n<!-- 431&#45;&gt;589 -->\n<g id=\"edge13\" class=\"edge\">\n<title>431&#45;&gt;589</title>\n<path fill=\"none\" stroke=\"#000000\" d=\"M468.8585,-175.9465C470.7647,-167.6863 472.8298,-158.7374 474.826,-150.0875\"/>\n<polygon fill=\"#000000\" stroke=\"#000000\" points=\"478.2855,-150.6609 477.1238,-140.13 471.4648,-149.0869 478.2855,-150.6609\"/>\n</g>\n<!-- 433 -->\n<g id=\"node12\" class=\"node\">\n<title>433</title>\n<polygon fill=\"#c0c0c0\" stroke=\"#000000\" points=\"342,-36 288,-36 288,0 342,0 342,-36\"/>\n<text text-anchor=\"middle\" x=\"315\" y=\"-14.3\" font-family=\"Times,serif\" font-size=\"14.00\" fill=\"#000000\">(...)</text>\n</g>\n<!-- 432&#45;&gt;433 -->\n<g id=\"edge11\" class=\"edge\">\n<title>432&#45;&gt;433</title>\n<path fill=\"none\" stroke=\"#000000\" d=\"M343.2152,-71.9769C338.5862,-63.1215 333.6597,-53.6969 329.2405,-45.2427\"/>\n<polygon fill=\"#000000\" stroke=\"#000000\" points=\"332.2438,-43.4328 324.5094,-36.192 326.0402,-46.6756 332.2438,-43.4328\"/>\n</g>\n<!-- 464 -->\n<g id=\"node13\" class=\"node\">\n<title>464</title>\n<polygon fill=\"#c0c0c0\" stroke=\"#000000\" points=\"414,-36 360,-36 360,0 414,0 414,-36\"/>\n<text text-anchor=\"middle\" x=\"387\" y=\"-14.3\" font-family=\"Times,serif\" font-size=\"14.00\" fill=\"#000000\">(...)</text>\n</g>\n<!-- 432&#45;&gt;464 -->\n<g id=\"edge12\" class=\"edge\">\n<title>432&#45;&gt;464</title>\n<path fill=\"none\" stroke=\"#000000\" d=\"M371.0523,-71.9769C373.6124,-63.3119 376.3335,-54.102 378.7895,-45.7894\"/>\n<polygon fill=\"#000000\" stroke=\"#000000\" points=\"382.1481,-46.7739 381.6251,-36.192 375.435,-44.7904 382.1481,-46.7739\"/>\n</g>\n<!-- 590 -->\n<g id=\"node15\" class=\"node\">\n<title>590</title>\n<polygon fill=\"#c0c0c0\" stroke=\"#000000\" points=\"486,-36 432,-36 432,0 486,0 486,-36\"/>\n<text text-anchor=\"middle\" x=\"459\" y=\"-14.3\" font-family=\"Times,serif\" font-size=\"14.00\" fill=\"#000000\">(...)</text>\n</g>\n<!-- 589&#45;&gt;590 -->\n<g id=\"edge14\" class=\"edge\">\n<title>589&#45;&gt;590</title>\n<path fill=\"none\" stroke=\"#000000\" d=\"M474.9477,-71.9769C472.3876,-63.3119 469.6665,-54.102 467.2105,-45.7894\"/>\n<polygon fill=\"#000000\" stroke=\"#000000\" points=\"470.565,-44.7904 464.3749,-36.192 463.8519,-46.7739 470.565,-44.7904\"/>\n</g>\n<!-- 611 -->\n<g id=\"node16\" class=\"node\">\n<title>611</title>\n<polygon fill=\"#c0c0c0\" stroke=\"#000000\" points=\"558,-36 504,-36 504,0 558,0 558,-36\"/>\n<text text-anchor=\"middle\" x=\"531\" y=\"-14.3\" font-family=\"Times,serif\" font-size=\"14.00\" fill=\"#000000\">(...)</text>\n</g>\n<!-- 589&#45;&gt;611 -->\n<g id=\"edge15\" class=\"edge\">\n<title>589&#45;&gt;611</title>\n<path fill=\"none\" stroke=\"#000000\" d=\"M502.7848,-71.9769C507.4138,-63.1215 512.3403,-53.6969 516.7595,-45.2427\"/>\n<polygon fill=\"#000000\" stroke=\"#000000\" points=\"519.9598,-46.6756 521.4906,-36.192 513.7562,-43.4328 519.9598,-46.6756\"/>\n</g>\n<!-- 713 -->\n<g id=\"node18\" class=\"node\">\n<title>713</title>\n<polygon fill=\"#efb388\" stroke=\"#000000\" points=\"704.5,-244 593.5,-244 593.5,-176 704.5,-176 704.5,-244\"/>\n<text text-anchor=\"middle\" x=\"649\" y=\"-228.8\" font-family=\"Times,serif\" font-size=\"14.00\" fill=\"#000000\">CRIM &lt;= 7.393</text>\n<text text-anchor=\"middle\" x=\"649\" y=\"-213.8\" font-family=\"Times,serif\" font-size=\"14.00\" fill=\"#000000\">mse = 43.09</text>\n<text text-anchor=\"middle\" x=\"649\" y=\"-198.8\" font-family=\"Times,serif\" font-size=\"14.00\" fill=\"#000000\">samples = 44</text>\n<text text-anchor=\"middle\" x=\"649\" y=\"-183.8\" font-family=\"Times,serif\" font-size=\"14.00\" fill=\"#000000\">value = 32.116</text>\n</g>\n<!-- 712&#45;&gt;713 -->\n<g id=\"edge17\" class=\"edge\">\n<title>712&#45;&gt;713</title>\n<path fill=\"none\" stroke=\"#000000\" d=\"M649,-279.9465C649,-271.776 649,-262.9318 649,-254.3697\"/>\n<polygon fill=\"#000000\" stroke=\"#000000\" points=\"652.5001,-254.13 649,-244.13 645.5001,-254.13 652.5001,-254.13\"/>\n</g>\n<!-- 800 -->\n<g id=\"node25\" class=\"node\">\n<title>800</title>\n<polygon fill=\"#e88f4f\" stroke=\"#000000\" points=\"943,-244 839,-244 839,-176 943,-176 943,-244\"/>\n<text text-anchor=\"middle\" x=\"891\" y=\"-228.8\" font-family=\"Times,serif\" font-size=\"14.00\" fill=\"#000000\">TAX &lt;= 534.5</text>\n<text text-anchor=\"middle\" x=\"891\" y=\"-213.8\" font-family=\"Times,serif\" font-size=\"14.00\" fill=\"#000000\">mse = 37.862</text>\n<text text-anchor=\"middle\" x=\"891\" y=\"-198.8\" font-family=\"Times,serif\" font-size=\"14.00\" fill=\"#000000\">samples = 29</text>\n<text text-anchor=\"middle\" x=\"891\" y=\"-183.8\" font-family=\"Times,serif\" font-size=\"14.00\" fill=\"#000000\">value = 45.066</text>\n</g>\n<!-- 712&#45;&gt;800 -->\n<g id=\"edge24\" class=\"edge\">\n<title>712&#45;&gt;800</title>\n<path fill=\"none\" stroke=\"#000000\" d=\"M697.6812,-293.0792C735.5837,-276.7905 788.44,-254.0754 829.3059,-236.5131\"/>\n<polygon fill=\"#000000\" stroke=\"#000000\" points=\"830.8191,-239.6725 838.6247,-232.5084 828.0552,-233.2412 830.8191,-239.6725\"/>\n</g>\n<!-- 714 -->\n<g id=\"node19\" class=\"node\">\n<title>714</title>\n<polygon fill=\"#efaf82\" stroke=\"#000000\" points=\"670,-140 566,-140 566,-72 670,-72 670,-140\"/>\n<text text-anchor=\"middle\" x=\"618\" y=\"-124.8\" font-family=\"Times,serif\" font-size=\"14.00\" fill=\"#000000\">DIS &lt;= 1.886</text>\n<text text-anchor=\"middle\" x=\"618\" y=\"-109.8\" font-family=\"Times,serif\" font-size=\"14.00\" fill=\"#000000\">mse = 20.917</text>\n<text text-anchor=\"middle\" x=\"618\" y=\"-94.8\" font-family=\"Times,serif\" font-size=\"14.00\" fill=\"#000000\">samples = 41</text>\n<text text-anchor=\"middle\" x=\"618\" y=\"-79.8\" font-family=\"Times,serif\" font-size=\"14.00\" fill=\"#000000\">value = 33.412</text>\n</g>\n<!-- 713&#45;&gt;714 -->\n<g id=\"edge18\" class=\"edge\">\n<title>713&#45;&gt;714</title>\n<path fill=\"none\" stroke=\"#000000\" d=\"M638.8494,-175.9465C636.3605,-167.5965 633.6618,-158.5427 631.0574,-149.8056\"/>\n<polygon fill=\"#000000\" stroke=\"#000000\" points=\"634.3842,-148.7135 628.1734,-140.13 627.6758,-150.7131 634.3842,-148.7135\"/>\n</g>\n<!-- 795 -->\n<g id=\"node22\" class=\"node\">\n<title>795</title>\n<polygon fill=\"#fae5d6\" stroke=\"#000000\" points=\"807.5,-140 688.5,-140 688.5,-72 807.5,-72 807.5,-140\"/>\n<text text-anchor=\"middle\" x=\"748\" y=\"-124.8\" font-family=\"Times,serif\" font-size=\"14.00\" fill=\"#000000\">CRIM &lt;= 54.293</text>\n<text text-anchor=\"middle\" x=\"748\" y=\"-109.8\" font-family=\"Times,serif\" font-size=\"14.00\" fill=\"#000000\">mse = 9.307</text>\n<text text-anchor=\"middle\" x=\"748\" y=\"-94.8\" font-family=\"Times,serif\" font-size=\"14.00\" fill=\"#000000\">samples = 3</text>\n<text text-anchor=\"middle\" x=\"748\" y=\"-79.8\" font-family=\"Times,serif\" font-size=\"14.00\" fill=\"#000000\">value = 14.4</text>\n</g>\n<!-- 713&#45;&gt;795 -->\n<g id=\"edge21\" class=\"edge\">\n<title>713&#45;&gt;795</title>\n<path fill=\"none\" stroke=\"#000000\" d=\"M681.4163,-175.9465C690.0486,-166.8782 699.4711,-156.9799 708.4395,-147.5585\"/>\n<polygon fill=\"#000000\" stroke=\"#000000\" points=\"711.1511,-149.7863 715.5109,-140.13 706.081,-144.9599 711.1511,-149.7863\"/>\n</g>\n<!-- 715 -->\n<g id=\"node20\" class=\"node\">\n<title>715</title>\n<polygon fill=\"#c0c0c0\" stroke=\"#000000\" points=\"630,-36 576,-36 576,0 630,0 630,-36\"/>\n<text text-anchor=\"middle\" x=\"603\" y=\"-14.3\" font-family=\"Times,serif\" font-size=\"14.00\" fill=\"#000000\">(...)</text>\n</g>\n<!-- 714&#45;&gt;715 -->\n<g id=\"edge19\" class=\"edge\">\n<title>714&#45;&gt;715</title>\n<path fill=\"none\" stroke=\"#000000\" d=\"M612.2006,-71.9769C610.7399,-63.4071 609.1882,-54.3043 607.7836,-46.0638\"/>\n<polygon fill=\"#000000\" stroke=\"#000000\" points=\"611.2315,-45.4616 606.1009,-36.192 604.3311,-46.6379 611.2315,-45.4616\"/>\n</g>\n<!-- 718 -->\n<g id=\"node21\" class=\"node\">\n<title>718</title>\n<polygon fill=\"#c0c0c0\" stroke=\"#000000\" points=\"702,-36 648,-36 648,0 702,0 702,-36\"/>\n<text text-anchor=\"middle\" x=\"675\" y=\"-14.3\" font-family=\"Times,serif\" font-size=\"14.00\" fill=\"#000000\">(...)</text>\n</g>\n<!-- 714&#45;&gt;718 -->\n<g id=\"edge20\" class=\"edge\">\n<title>714&#45;&gt;718</title>\n<path fill=\"none\" stroke=\"#000000\" d=\"M640.0377,-71.9769C645.897,-62.931 652.1409,-53.2913 657.7066,-44.6986\"/>\n<polygon fill=\"#000000\" stroke=\"#000000\" points=\"660.7177,-46.4879 663.2166,-36.192 654.8425,-42.6823 660.7177,-46.4879\"/>\n</g>\n<!-- 796 -->\n<g id=\"node23\" class=\"node\">\n<title>796</title>\n<polygon fill=\"#c0c0c0\" stroke=\"#000000\" points=\"774,-36 720,-36 720,0 774,0 774,-36\"/>\n<text text-anchor=\"middle\" x=\"747\" y=\"-14.3\" font-family=\"Times,serif\" font-size=\"14.00\" fill=\"#000000\">(...)</text>\n</g>\n<!-- 795&#45;&gt;796 -->\n<g id=\"edge22\" class=\"edge\">\n<title>795&#45;&gt;796</title>\n<path fill=\"none\" stroke=\"#000000\" d=\"M747.6134,-71.9769C747.5171,-63.5023 747.4148,-54.5065 747.322,-46.3388\"/>\n<polygon fill=\"#000000\" stroke=\"#000000\" points=\"750.8202,-46.1515 747.2067,-36.192 743.8207,-46.2311 750.8202,-46.1515\"/>\n</g>\n<!-- 799 -->\n<g id=\"node24\" class=\"node\">\n<title>799</title>\n<polygon fill=\"#c0c0c0\" stroke=\"#000000\" points=\"846,-36 792,-36 792,0 846,0 846,-36\"/>\n<text text-anchor=\"middle\" x=\"819\" y=\"-14.3\" font-family=\"Times,serif\" font-size=\"14.00\" fill=\"#000000\">(...)</text>\n</g>\n<!-- 795&#45;&gt;799 -->\n<g id=\"edge23\" class=\"edge\">\n<title>795&#45;&gt;799</title>\n<path fill=\"none\" stroke=\"#000000\" d=\"M775.4505,-71.9769C782.9025,-62.7406 790.8541,-52.8851 797.8958,-44.1573\"/>\n<polygon fill=\"#000000\" stroke=\"#000000\" points=\"800.7671,-46.1725 804.3224,-36.192 795.3191,-41.777 800.7671,-46.1725\"/>\n</g>\n<!-- 801 -->\n<g id=\"node26\" class=\"node\">\n<title>801</title>\n<polygon fill=\"#e78c4b\" stroke=\"#000000\" points=\"954.5,-140 827.5,-140 827.5,-72 954.5,-72 954.5,-140\"/>\n<text text-anchor=\"middle\" x=\"891\" y=\"-124.8\" font-family=\"Times,serif\" font-size=\"14.00\" fill=\"#000000\">PTRATIO &lt;= 14.8</text>\n<text text-anchor=\"middle\" x=\"891\" y=\"-109.8\" font-family=\"Times,serif\" font-size=\"14.00\" fill=\"#000000\">mse = 19.364</text>\n<text text-anchor=\"middle\" x=\"891\" y=\"-94.8\" font-family=\"Times,serif\" font-size=\"14.00\" fill=\"#000000\">samples = 28</text>\n<text text-anchor=\"middle\" x=\"891\" y=\"-79.8\" font-family=\"Times,serif\" font-size=\"14.00\" fill=\"#000000\">value = 45.893</text>\n</g>\n<!-- 800&#45;&gt;801 -->\n<g id=\"edge25\" class=\"edge\">\n<title>800&#45;&gt;801</title>\n<path fill=\"none\" stroke=\"#000000\" d=\"M891,-175.9465C891,-167.776 891,-158.9318 891,-150.3697\"/>\n<polygon fill=\"#000000\" stroke=\"#000000\" points=\"894.5001,-150.13 891,-140.13 887.5001,-150.13 894.5001,-150.13\"/>\n</g>\n<!-- 844 -->\n<g id=\"node29\" class=\"node\">\n<title>844</title>\n<polygon fill=\"#f5d0b5\" stroke=\"#000000\" points=\"1061.5,-132.5 972.5,-132.5 972.5,-79.5 1061.5,-79.5 1061.5,-132.5\"/>\n<text text-anchor=\"middle\" x=\"1017\" y=\"-117.3\" font-family=\"Times,serif\" font-size=\"14.00\" fill=\"#000000\">mse = &#45;0.0</text>\n<text text-anchor=\"middle\" x=\"1017\" y=\"-102.3\" font-family=\"Times,serif\" font-size=\"14.00\" fill=\"#000000\">samples = 1</text>\n<text text-anchor=\"middle\" x=\"1017\" y=\"-87.3\" font-family=\"Times,serif\" font-size=\"14.00\" fill=\"#000000\">value = 21.9</text>\n</g>\n<!-- 800&#45;&gt;844 -->\n<g id=\"edge28\" class=\"edge\">\n<title>800&#45;&gt;844</title>\n<path fill=\"none\" stroke=\"#000000\" d=\"M932.2571,-175.9465C946.6697,-164.0504 962.8127,-150.726 977.1117,-138.9237\"/>\n<polygon fill=\"#000000\" stroke=\"#000000\" points=\"979.3589,-141.6071 984.8431,-132.5422 974.9029,-136.2086 979.3589,-141.6071\"/>\n</g>\n<!-- 802 -->\n<g id=\"node27\" class=\"node\">\n<title>802</title>\n<polygon fill=\"#c0c0c0\" stroke=\"#000000\" points=\"918,-36 864,-36 864,0 918,0 918,-36\"/>\n<text text-anchor=\"middle\" x=\"891\" y=\"-14.3\" font-family=\"Times,serif\" font-size=\"14.00\" fill=\"#000000\">(...)</text>\n</g>\n<!-- 801&#45;&gt;802 -->\n<g id=\"edge26\" class=\"edge\">\n<title>801&#45;&gt;802</title>\n<path fill=\"none\" stroke=\"#000000\" d=\"M891,-71.9769C891,-63.5023 891,-54.5065 891,-46.3388\"/>\n<polygon fill=\"#000000\" stroke=\"#000000\" points=\"894.5001,-46.1919 891,-36.192 887.5001,-46.192 894.5001,-46.1919\"/>\n</g>\n<!-- 817 -->\n<g id=\"node28\" class=\"node\">\n<title>817</title>\n<polygon fill=\"#c0c0c0\" stroke=\"#000000\" points=\"990,-36 936,-36 936,0 990,0 990,-36\"/>\n<text text-anchor=\"middle\" x=\"963\" y=\"-14.3\" font-family=\"Times,serif\" font-size=\"14.00\" fill=\"#000000\">(...)</text>\n</g>\n<!-- 801&#45;&gt;817 -->\n<g id=\"edge27\" class=\"edge\">\n<title>801&#45;&gt;817</title>\n<path fill=\"none\" stroke=\"#000000\" d=\"M918.8371,-71.9769C926.3941,-62.7406 934.4576,-52.8851 941.5986,-44.1573\"/>\n<polygon fill=\"#000000\" stroke=\"#000000\" points=\"944.4921,-46.1479 948.1157,-36.192 939.0744,-41.7152 944.4921,-46.1479\"/>\n</g>\n</g>\n</svg>\n"
          },
          "metadata": {
            "tags": []
          },
          "execution_count": 55
        }
      ]
    },
    {
      "cell_type": "code",
      "metadata": {
        "id": "-26772km4RuY",
        "colab_type": "code",
        "colab": {
          "base_uri": "https://localhost:8080/",
          "height": 34
        },
        "outputId": "c0d15389-67fe-4f8c-9940-2353b44e6eaa"
      },
      "source": [
        "from sklearn.metrics import r2_score\n",
        "pre = reg.predict(x_test)\n",
        "r2_score(y_test, pre)"
      ],
      "execution_count": 56,
      "outputs": [
        {
          "output_type": "execute_result",
          "data": {
            "text/plain": [
              "0.7750068315343626"
            ]
          },
          "metadata": {
            "tags": []
          },
          "execution_count": 56
        }
      ]
    }
  ]
}